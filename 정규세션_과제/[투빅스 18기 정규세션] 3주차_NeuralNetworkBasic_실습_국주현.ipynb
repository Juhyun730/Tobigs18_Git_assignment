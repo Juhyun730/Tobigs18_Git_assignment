{
 "cells": [
  {
   "cell_type": "markdown",
   "id": "00493e77",
   "metadata": {},
   "source": [
    "> # Neural Network Basic - Week3 과제\n"
   ]
  },
  {
   "cell_type": "markdown",
   "id": "747656a3",
   "metadata": {},
   "source": [
    "## Import Library"
   ]
  },
  {
   "cell_type": "code",
   "execution_count": 1,
   "id": "2d4be987",
   "metadata": {},
   "outputs": [],
   "source": [
    "import numpy as np\n",
    "from matplotlib import pyplot as plt\n",
    "from dataset.mnist import load_mnist"
   ]
  },
  {
   "cell_type": "markdown",
   "id": "bbd9ddbb",
   "metadata": {},
   "source": [
    "## Load Dataset\n",
    "- MNIST "
   ]
  },
  {
   "cell_type": "code",
   "execution_count": 2,
   "id": "2813d656",
   "metadata": {},
   "outputs": [],
   "source": [
    "(X_train, Y_train), (X_test, Y_test) = \\\n",
    "    load_mnist(normalize=True, one_hot_label=False)"
   ]
  },
  {
   "cell_type": "code",
   "execution_count": 3,
   "id": "2bd1d69a",
   "metadata": {},
   "outputs": [
    {
     "name": "stdout",
     "output_type": "stream",
     "text": [
      "X_train shape: (60000, 784)\n",
      "X_test shape: (10000, 784)\n",
      "Y_train shape: (60000,)\n",
      "Y_train shape: (10000,)\n"
     ]
    }
   ],
   "source": [
    "print(f'X_train shape: {X_train.shape}')\n",
    "print(f'X_test shape: {X_test.shape}')\n",
    "print(f'Y_train shape: {Y_train.shape}')\n",
    "print(f'Y_train shape: {Y_test.shape}')"
   ]
  },
  {
   "cell_type": "markdown",
   "id": "4581cc2e",
   "metadata": {},
   "source": [
    "## Activation Function \n",
    "- sigmoid & relu : hidden layer activation function \n",
    "- softmax : output layer activation function "
   ]
  },
  {
   "cell_type": "code",
   "execution_count": 6,
   "id": "a147a2b7",
   "metadata": {},
   "outputs": [],
   "source": [
    "class sigmoid:\n",
    "    # sigmoid 함수를 작성하세요 \n",
    "    def forward(x):\n",
    "        return 1/(1+np.exp(-x))\n",
    "    \n",
    "    # sigmoid 함수의 미분을 작성하세요\n",
    "    def backward(x):\n",
    "        return x*(1-x)"
   ]
  },
  {
   "cell_type": "code",
   "execution_count": 8,
   "id": "f37afa8d",
   "metadata": {},
   "outputs": [],
   "source": [
    "class relu:\n",
    "    # relu 함수를 작성하세요\n",
    "    def forward(x):\n",
    "        return np.maximun(0,x)\n",
    "    \n",
    "    # relu 함수의 미분을 작성하세요\n",
    "    def backward(x):\n",
    "        return np.where(x>0,1,0) #0보다 큰 값은 1의 그레디언트"
   ]
  },
  {
   "cell_type": "code",
   "execution_count": 9,
   "id": "cb44b346",
   "metadata": {},
   "outputs": [],
   "source": [
    "class softmax:\n",
    "    def forward(z):\n",
    "        y = []\n",
    "        for zi in z:\n",
    "            c = np.max(zi)\n",
    "            exp_zi = np.exp(zi-c)\n",
    "            sum_exp_zi = np.sum(exp_zi)\n",
    "            yi = exp_zi / sum_exp_zi\n",
    "            y.append(yi)\n",
    "\n",
    "        return np.array(y)\n",
    "    \n",
    "    def backward(p, y) :\n",
    "        dp = p.copy()\n",
    "        for dpi, yi in zip(dp, y):\n",
    "            for k in range(dp.shape[1]):\n",
    "                if k == yi :\n",
    "                    dpi[k] -= 1\n",
    "        return dp"
   ]
  },
  {
   "cell_type": "markdown",
   "id": "36955740",
   "metadata": {},
   "source": [
    "## Loss Function"
   ]
  },
  {
   "cell_type": "code",
   "execution_count": 10,
   "id": "44e0ad37",
   "metadata": {},
   "outputs": [],
   "source": [
    "def cross_entropy(p, y):\n",
    "    loss = []\n",
    "    for pi, yi in zip(p, y):\n",
    "        for k in range(p.shape[1]):\n",
    "            if k == yi:\n",
    "                loss.append((-1) * (np.log(pi[k] + 1e-8))) \n",
    "    return loss"
   ]
  },
  {
   "cell_type": "markdown",
   "id": "0f9a7228",
   "metadata": {},
   "source": [
    "## Layer"
   ]
  },
  {
   "cell_type": "code",
   "execution_count": 11,
   "id": "668bda1a",
   "metadata": {},
   "outputs": [],
   "source": [
    "class Layer:\n",
    "    def __init__(self, input_size, output_size, std=1e-4) :\n",
    "        self.input_size = input_size\n",
    "        self.output_size = output_size\n",
    "        self.bias = np.random.randn(output_size)\n",
    "        self.weight = np.random.randn(input_size, output_size)*std"
   ]
  },
  {
   "cell_type": "markdown",
   "id": "a72dfcee",
   "metadata": {},
   "source": [
    "## Neural Network\n",
    "- 각 메소드와 변수들의 역할을 주석으로 달아주세요! "
   ]
  },
  {
   "cell_type": "code",
   "execution_count": 12,
   "id": "33125095",
   "metadata": {},
   "outputs": [],
   "source": [
    "class CustomNet:\n",
    "    # CustomNet을 선언할 때 생성되는 값들입니다.\n",
    "    def __init__(self, lr=0.0001, epoch=500, batch_size=200):\n",
    "        self.lr = lr #러닝레이트\n",
    "        self.epoch = epoch  #에폭\n",
    "        self.batch_size = batch_size #배치사이즈\n",
    "        self.loss_function = cross_entropy #크로스엔트로피\n",
    "        self.layers = [] #layer를 담고있는 배열\n",
    "        self.activations = [softmax] #활성화함수는 스프트맥스\n",
    "        self.nodes = [] #레이어 노드 수에 대한 리스트\n",
    "    \n",
    "    # Layer를 추가할 때 호출합니다\n",
    "    def addLayer(self, Layer): #레이어를 추가할 때 호출한다\n",
    "        self.layers.append(Layer) #레이어를 하나 붙여주기\n",
    "        if not self.nodes: #nodes가 비어있으면\n",
    "            self.nodes.append(np.zeros(Layer.input_size)) #노드를 새로 붙여준다(0으로 초기화된)\n",
    "        self.nodes.append(np.zeros(Layer.output_size))\n",
    "        \n",
    "    # Activation Function을 추가할 때 호출합니다\n",
    "    def addActivation(self, Activation): #활성화함수를 더해준다.\n",
    "        tmp = self.activations.pop() #마지막으로 쓰였던 활성화함수를 뽑나내구\n",
    "        self.activations.append(Activation)  # 새로운 활성화함수 추가\n",
    "        self.activations.append(tmp) #tmp를 뒤에 다시 붙여주기\n",
    "        \n",
    "    # 순전파 함수\n",
    "    def _forward(self, X): #순전파\n",
    "        self.nodes[0] = X.copy() #입력받은 X로 첫번째노드를 초기화해라\n",
    "        output = X.copy() #OUTPUT도 X로 초기화하기\n",
    "        for i in range(len(self.layers)): #레이어 수만큼 포문 돌기\n",
    "            Layer = self.layers[i] \n",
    "            Activation = self.activations[i] #레이어별 활성화 함수 지정하기\n",
    "            output = np.dot(self.nodes[i], Layer.weight) #노드와 레이어의 가중치 곱하기\n",
    "            output = output+ Layer.bias #OUPUT에 BIAS 더하기\n",
    "            output = Activation.forward(output) #활성화함수 적용하기\n",
    "            self.nodes[i+1] = output #그 다음 노드값은 현재 OUPUT으로 초기화\n",
    "        return output   \n",
    "    \n",
    "    # 역전파 함수\n",
    "    def _backward(self, X, output, y) :\n",
    "        for i in reversed(range(len(self.layers))): #레이어 길이의 반대 순으로 실행하기\n",
    "            a = self.nodes[i+1] # 그 다음 레이어의 값을 a로 지정\n",
    "            Layer = self.layers[i] # 현재 레이어값\n",
    "            Activation = self.activations[i] #활성화함수\n",
    "            \n",
    "            if i+1 == len(self.layers): #현재 레이어가 가장 마지막 레이어라면\n",
    "                error = Activation.backward(output, y) # 가장마지막output의 미분값이 error\n",
    "            else:\n",
    "                error *= Activation.backward(a) # 현재 레이어가 가장 마지막 레이어가 아니면 error 곱해주기\n",
    "            Layer.weight -= np.dot(error.T, self.nodes[i]).T*self.lr/X.shape[0]#가중치업데이트 \n",
    "            Layer.bias -= error.sum(axis=0)*self.lr/X.shape[0] #bias 업데이트\n",
    "            error = np.dot(error, Layer.weight.T) #에러 계산\n",
    "            \n",
    "    # Accrucy를 반환합니다\n",
    "    def _accuracy(self, output, y):\n",
    "        pre_p = np.argmax(output, axis=1) #소프트맥스 확률중 가장 높은 값 반환\n",
    "        return np.sum(pre_p==y)/y.shape[0]  #분류가 잘된 비율\n",
    "    \n",
    "    # 데이터셋에 모델을 fit할때 호출합니다\n",
    "    def fit(self, X, y, val_X, val_y):\n",
    "        history = {'val_acc': [],'val_loss': []}\n",
    "        N = X.shape[0]\n",
    "        for i in range(self.epoch):\n",
    "            for j in range(N//self.batch_size):  #minibatch 크기만큼\n",
    "                batch_mask = np.random.choice(N, self.batch_size)#배치사이즈만큼 랜덤 뽑기\n",
    "                X_batch = X[batch_mask] #배치 추출\n",
    "                y_batch = y[batch_mask] #배치 추출\n",
    "                output = self._forward(X_batch) #배치 순전파\n",
    "                self._backward(X_batch, output, y_batch) #배치 역전파\n",
    "            \n",
    "            #accuracy와 loss를 기록해둡시다\n",
    "            output = self._forward(val_X) \n",
    "            history[\"val_acc\"].append(self._accuracy(output, val_y)) \n",
    "            history[\"val_loss\"].append(sum(self.loss_function(output, val_y))) \n",
    "            \n",
    "            #중간중간 기록을 찍어볼 때 사용. 적절히 조절해 쓰세요\n",
    "            if i % 10 == 0:\n",
    "                print(i, \"test accuracy :\", history[\"val_acc\"][-1])\n",
    "                print(i, \"test loss     :\", history[\"val_loss\"][-1])\n",
    "        return history"
   ]
  },
  {
   "cell_type": "markdown",
   "id": "e7787d0e",
   "metadata": {},
   "source": [
    "## Customizing\n",
    "- Network parameter, Layer architecture, Activation function .. 등등 다양한 하이퍼파라미터를 커스터마이징하여 높은 성능에 도달해 봅시다! "
   ]
  },
  {
   "cell_type": "code",
   "execution_count": 16,
   "id": "10d3d20c",
   "metadata": {},
   "outputs": [],
   "source": [
    "# 하이퍼파라미터를 적절히 조절해 뉴럴넷을 선언하세요\n",
    "nn = CustomNet(lr=0.005, epoch=20, batch_size=32)\n",
    "\n",
    "# 원하는 만큼 층과 활성화 함수를 쌓아 주세요. 기본적으로 2Layer를 예시로 적어드립니다\n",
    "nn.addLayer(Layer(784,100))\n",
    "nn.addActivation(sigmoid)\n",
    "nn.addLayer(Layer(100,10))"
   ]
  },
  {
   "cell_type": "code",
   "execution_count": 17,
   "id": "771766e2",
   "metadata": {},
   "outputs": [
    {
     "name": "stdout",
     "output_type": "stream",
     "text": [
      "(784, 100) (100,)\n",
      "(100, 10) (10,)\n"
     ]
    }
   ],
   "source": [
    "# 선언한 뉴럴넷의 구조입니다\n",
    "for layer in nn.layers:\n",
    "    print(layer.weight.shape, layer.bias.shape)"
   ]
  },
  {
   "cell_type": "code",
   "execution_count": 18,
   "id": "b2c1018a",
   "metadata": {},
   "outputs": [
    {
     "name": "stdout",
     "output_type": "stream",
     "text": [
      "0 test accuracy : 0.1149\n",
      "0 test loss     : 22913.830877491142\n",
      "10 test accuracy : 0.7894\n",
      "10 test loss     : 7979.801884941303\n"
     ]
    }
   ],
   "source": [
    "history = nn.fit(X_train, Y_train, X_test, Y_test)"
   ]
  },
  {
   "cell_type": "markdown",
   "id": "b76a6163",
   "metadata": {},
   "source": [
    "## Accuracy, Loss Visualization\n",
    "- 자유롭게 Accuracy나 Loss를 시각화하여 확인하고 결과를 확인해 보세요! "
   ]
  },
  {
   "cell_type": "code",
   "execution_count": 23,
   "id": "eb733190",
   "metadata": {},
   "outputs": [
    {
     "name": "stderr",
     "output_type": "stream",
     "text": [
      "c:\\Users\\momo8\\AppData\\Local\\Programs\\Python\\Python37\\lib\\site-packages\\IPython\\core\\pylabtools.py:151: UserWarning: Glyph 51221 (\\N{HANGUL SYLLABLE JEONG}) missing from current font.\n",
      "  fig.canvas.print_figure(bytes_io, **kw)\n",
      "c:\\Users\\momo8\\AppData\\Local\\Programs\\Python\\Python37\\lib\\site-packages\\IPython\\core\\pylabtools.py:151: UserWarning: Glyph 54869 (\\N{HANGUL SYLLABLE HWAG}) missing from current font.\n",
      "  fig.canvas.print_figure(bytes_io, **kw)\n",
      "c:\\Users\\momo8\\AppData\\Local\\Programs\\Python\\Python37\\lib\\site-packages\\IPython\\core\\pylabtools.py:151: UserWarning: Glyph 46020 (\\N{HANGUL SYLLABLE DO}) missing from current font.\n",
      "  fig.canvas.print_figure(bytes_io, **kw)\n"
     ]
    },
    {
     "data": {
      "image/png": "[encoded data removed]",
      "text/plain": [
       "<Figure size 432x288 with 2 Axes>"
      ]
     },
     "metadata": {
      "needs_background": "light"
     },
     "output_type": "display_data"
    }
   ],
   "source": [
    "fig = plt.figure()\n",
    "a = fig.add_subplot(111)\n",
    "\n",
    "a.plot(range(20),history['val_acc'])\n",
    "plt.xlabel('epochs')\n",
    "plt.ylabel('validatation 정확도')\n",
    "b=a.twinx() #위에다 그리기(x-axis를 공유하지만 y-axis는 공유하지 않는 fig)\n",
    "b.plot(history['val_loss'],color='red')\n",
    "plt.show()"
   ]
  },
  {
   "cell_type": "code",
   "execution_count": 19,
   "id": "8702d4f6",
   "metadata": {},
   "outputs": [
    {
     "data": {
      "text/plain": [
       "range(0, 10)"
      ]
     },
     "execution_count": 19,
     "metadata": {},
     "output_type": "execute_result"
    }
   ],
   "source": [
    "range(10)"
   ]
  },
  {
   "cell_type": "code",
   "execution_count": null,
   "id": "73841acb",
   "metadata": {},
   "outputs": [],
   "source": []
  }
 ],
 "metadata": {
  "kernelspec": {
   "display_name": "Python 3.7.0 64-bit",
   "language": "python",
   "name": "python3"
  },
  "language_info": {
   "codemirror_mode": {
    "name": "ipython",
    "version": 3
   },
   "file_extension": ".py",
   "mimetype": "text/x-python",
   "name": "python",
   "nbconvert_exporter": "python",
   "pygments_lexer": "ipython3",
   "version": "3.7.0"
  },
  "vscode": {
   "interpreter": {
    "hash": "9e4da2e68e52eaecd09ab559ce3da5a5877c5e2c60ae63dc0cc3d4b3b47ebf09"
   }
  }
 },
 "nbformat": 4,
 "nbformat_minor": 5
}
