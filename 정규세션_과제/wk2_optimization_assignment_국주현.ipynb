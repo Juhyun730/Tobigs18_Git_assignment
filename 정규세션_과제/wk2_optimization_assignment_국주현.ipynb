{
  "cells": [
    {
      "cell_type": "markdown",
      "metadata": {
        "id": "d2StPehwLMat"
      },
      "source": [
        "# Tobig's 18기 2주차 Optimization 과제"
      ]
    },
    {
      "cell_type": "markdown",
      "metadata": {
        "id": "DKIX8PqcLMaw"
      },
      "source": [
        "# Gradient Descent 구현하기\n",
        "\n",
        "### 1)\"...\"표시되어 있는 빈 칸을 채워주세요\n",
        "### 2)강의내용과 코드에 대해 공부한 내용을 마크마운 또는 주석으로 설명해주세요"
      ]
    },
    {
      "cell_type": "markdown",
      "metadata": {
        "id": "C6DNHHXfLMax"
      },
      "source": [
        "## 데이터"
      ]
    },
    {
      "cell_type": "code",
      "execution_count": null,
      "metadata": {
        "id": "EP3O4xptLMay"
      },
      "outputs": [],
      "source": [
        "import pandas as pd\n",
        "import numpy as np\n",
        "import random"
      ]
    },
    {
      "cell_type": "code",
      "execution_count": null,
      "metadata": {
        "id": "oByQ9wXHLMay",
        "outputId": "126600b4-b102-4f7e-8e58-6db84e2e08f3"
      },
      "outputs": [
        {
          "data": {
            "text/html": [
              "<div>\n",
              "<style scoped>\n",
              "    .dataframe tbody tr th:only-of-type {\n",
              "        vertical-align: middle;\n",
              "    }\n",
              "\n",
              "    .dataframe tbody tr th {\n",
              "        vertical-align: top;\n",
              "    }\n",
              "\n",
              "    .dataframe thead th {\n",
              "        text-align: right;\n",
              "    }\n",
              "</style>\n",
              "<table border=\"1\" class=\"dataframe\">\n",
              "  <thead>\n",
              "    <tr style=\"text-align: right;\">\n",
              "      <th></th>\n",
              "      <th>Label</th>\n",
              "      <th>bias</th>\n",
              "      <th>experience</th>\n",
              "      <th>salary</th>\n",
              "    </tr>\n",
              "  </thead>\n",
              "  <tbody>\n",
              "    <tr>\n",
              "      <th>0</th>\n",
              "      <td>1</td>\n",
              "      <td>1</td>\n",
              "      <td>0.7</td>\n",
              "      <td>48000</td>\n",
              "    </tr>\n",
              "    <tr>\n",
              "      <th>1</th>\n",
              "      <td>0</td>\n",
              "      <td>1</td>\n",
              "      <td>1.9</td>\n",
              "      <td>48000</td>\n",
              "    </tr>\n",
              "    <tr>\n",
              "      <th>2</th>\n",
              "      <td>1</td>\n",
              "      <td>1</td>\n",
              "      <td>2.5</td>\n",
              "      <td>60000</td>\n",
              "    </tr>\n",
              "    <tr>\n",
              "      <th>3</th>\n",
              "      <td>0</td>\n",
              "      <td>1</td>\n",
              "      <td>4.2</td>\n",
              "      <td>63000</td>\n",
              "    </tr>\n",
              "    <tr>\n",
              "      <th>4</th>\n",
              "      <td>0</td>\n",
              "      <td>1</td>\n",
              "      <td>6.0</td>\n",
              "      <td>76000</td>\n",
              "    </tr>\n",
              "  </tbody>\n",
              "</table>\n",
              "</div>"
            ],
            "text/plain": [
              "   Label  bias  experience  salary\n",
              "0      1     1         0.7   48000\n",
              "1      0     1         1.9   48000\n",
              "2      1     1         2.5   60000\n",
              "3      0     1         4.2   63000\n",
              "4      0     1         6.0   76000"
            ]
          },
          "execution_count": 40,
          "metadata": {},
          "output_type": "execute_result"
        }
      ],
      "source": [
        "data = pd.read_csv('assignment_2.csv')\n",
        "data.head()"
      ]
    },
    {
      "cell_type": "markdown",
      "metadata": {
        "id": "ubOR3hWGLMaz"
      },
      "source": [
        "## Train Test 데이터 나누기"
      ]
    },
    {
      "cell_type": "code",
      "execution_count": null,
      "metadata": {
        "id": "IySSjlizLMaz"
      },
      "outputs": [],
      "source": [
        "from sklearn.model_selection import train_test_split"
      ]
    },
    {
      "cell_type": "code",
      "execution_count": null,
      "metadata": {
        "id": "075EQI1bLMa0"
      },
      "outputs": [],
      "source": [
        "X_train, X_test, y_train, y_test = train_test_split(data.iloc[:, 1:], data.iloc[:, 0], test_size = 0.25, random_state = 0) #데이터 나누기"
      ]
    },
    {
      "cell_type": "code",
      "execution_count": null,
      "metadata": {
        "id": "O8Ht5u8kLMa1",
        "outputId": "4b1faa16-1891-43fa-8aba-e875eaaba529"
      },
      "outputs": [
        {
          "data": {
            "text/plain": [
              "((150, 3), (50, 3), (150,), (50,))"
            ]
          },
          "execution_count": 43,
          "metadata": {},
          "output_type": "execute_result"
        }
      ],
      "source": [
        "X_train.shape, X_test.shape, y_train.shape, y_test.shape"
      ]
    },
    {
      "cell_type": "markdown",
      "metadata": {
        "id": "hYmxND_xLMa2"
      },
      "source": [
        "## Scaling\n",
        "\n",
        "experience와 salary의 단위, 평균, 분산이 크게 차이나므로 scaler를 사용해 단위를 맞춰줍니다. "
      ]
    },
    {
      "cell_type": "code",
      "execution_count": null,
      "metadata": {
        "id": "UI0Xy0gHLMa3",
        "outputId": "0a906234-2f24-41f0-f937-aed68211b4cd"
      },
      "outputs": [
        {
          "data": {
            "text/html": [
              "<div>\n",
              "<style scoped>\n",
              "    .dataframe tbody tr th:only-of-type {\n",
              "        vertical-align: middle;\n",
              "    }\n",
              "\n",
              "    .dataframe tbody tr th {\n",
              "        vertical-align: top;\n",
              "    }\n",
              "\n",
              "    .dataframe thead th {\n",
              "        text-align: right;\n",
              "    }\n",
              "</style>\n",
              "<table border=\"1\" class=\"dataframe\">\n",
              "  <thead>\n",
              "    <tr style=\"text-align: right;\">\n",
              "      <th></th>\n",
              "      <th>bias</th>\n",
              "      <th>experience</th>\n",
              "      <th>salary</th>\n",
              "    </tr>\n",
              "  </thead>\n",
              "  <tbody>\n",
              "    <tr>\n",
              "      <th>0</th>\n",
              "      <td>1</td>\n",
              "      <td>0.187893</td>\n",
              "      <td>-1.143335</td>\n",
              "    </tr>\n",
              "    <tr>\n",
              "      <th>1</th>\n",
              "      <td>1</td>\n",
              "      <td>1.185555</td>\n",
              "      <td>0.043974</td>\n",
              "    </tr>\n",
              "    <tr>\n",
              "      <th>2</th>\n",
              "      <td>1</td>\n",
              "      <td>-0.310938</td>\n",
              "      <td>-0.351795</td>\n",
              "    </tr>\n",
              "    <tr>\n",
              "      <th>3</th>\n",
              "      <td>1</td>\n",
              "      <td>-1.629277</td>\n",
              "      <td>-1.341220</td>\n",
              "    </tr>\n",
              "    <tr>\n",
              "      <th>4</th>\n",
              "      <td>1</td>\n",
              "      <td>-1.308600</td>\n",
              "      <td>0.043974</td>\n",
              "    </tr>\n",
              "  </tbody>\n",
              "</table>\n",
              "</div>"
            ],
            "text/plain": [
              "   bias  experience    salary\n",
              "0     1    0.187893 -1.143335\n",
              "1     1    1.185555  0.043974\n",
              "2     1   -0.310938 -0.351795\n",
              "3     1   -1.629277 -1.341220\n",
              "4     1   -1.308600  0.043974"
            ]
          },
          "execution_count": 44,
          "metadata": {},
          "output_type": "execute_result"
        }
      ],
      "source": [
        "from sklearn.preprocessing import StandardScaler #스케일러 \n",
        "scaler = StandardScaler()\n",
        "bias_train = X_train[\"bias\"]\n",
        "bias_train = bias_train.reset_index()[\"bias\"] #인덱스를 다시 순서대로 맞춰주기\n",
        "X_train = pd.DataFrame(scaler.fit_transform(X_train), columns = X_train.columns) #X_train 데이터의 값들을 스케일링 진행해주기\n",
        "X_train[\"bias\"] = bias_train #X_train의 'bias'에 원래 'bais'열 넣어주기\n",
        "X_train.head()"
      ]
    },
    {
      "cell_type": "markdown",
      "metadata": {
        "id": "xD7L7RwZLMa3"
      },
      "source": [
        "이때 scaler는 X_train에 fit 해주시고, fit한 scaler를 X_test에 적용시켜줍니다.  \n",
        "똑같이 X_test에다 fit하면 안돼요!"
      ]
    },
    {
      "cell_type": "code",
      "execution_count": null,
      "metadata": {
        "id": "xBsUSCGGLMa3",
        "outputId": "95268d5d-df28-4117-97b2-e4544046901c"
      },
      "outputs": [
        {
          "data": {
            "text/html": [
              "<div>\n",
              "<style scoped>\n",
              "    .dataframe tbody tr th:only-of-type {\n",
              "        vertical-align: middle;\n",
              "    }\n",
              "\n",
              "    .dataframe tbody tr th {\n",
              "        vertical-align: top;\n",
              "    }\n",
              "\n",
              "    .dataframe thead th {\n",
              "        text-align: right;\n",
              "    }\n",
              "</style>\n",
              "<table border=\"1\" class=\"dataframe\">\n",
              "  <thead>\n",
              "    <tr style=\"text-align: right;\">\n",
              "      <th></th>\n",
              "      <th>bias</th>\n",
              "      <th>experience</th>\n",
              "      <th>salary</th>\n",
              "    </tr>\n",
              "  </thead>\n",
              "  <tbody>\n",
              "    <tr>\n",
              "      <th>0</th>\n",
              "      <td>1</td>\n",
              "      <td>-1.344231</td>\n",
              "      <td>-0.615642</td>\n",
              "    </tr>\n",
              "    <tr>\n",
              "      <th>1</th>\n",
              "      <td>1</td>\n",
              "      <td>0.508570</td>\n",
              "      <td>0.307821</td>\n",
              "    </tr>\n",
              "    <tr>\n",
              "      <th>2</th>\n",
              "      <td>1</td>\n",
              "      <td>-0.310938</td>\n",
              "      <td>0.571667</td>\n",
              "    </tr>\n",
              "    <tr>\n",
              "      <th>3</th>\n",
              "      <td>1</td>\n",
              "      <td>1.363709</td>\n",
              "      <td>1.956862</td>\n",
              "    </tr>\n",
              "    <tr>\n",
              "      <th>4</th>\n",
              "      <td>1</td>\n",
              "      <td>-0.987923</td>\n",
              "      <td>-0.747565</td>\n",
              "    </tr>\n",
              "  </tbody>\n",
              "</table>\n",
              "</div>"
            ],
            "text/plain": [
              "   bias  experience    salary\n",
              "0     1   -1.344231 -0.615642\n",
              "1     1    0.508570  0.307821\n",
              "2     1   -0.310938  0.571667\n",
              "3     1    1.363709  1.956862\n",
              "4     1   -0.987923 -0.747565"
            ]
          },
          "execution_count": 45,
          "metadata": {},
          "output_type": "execute_result"
        }
      ],
      "source": [
        "bias_test = X_test[\"bias\"] #X_test도 마찬가지로 train과 같이 해주기\n",
        "bias_test = bias_test.reset_index()[\"bias\"]\n",
        "X_test = pd.DataFrame(scaler.transform(X_test), columns = X_test.columns) #스케일 진행\n",
        "X_test[\"bias\"] = bias_test\n",
        "X_test.head()"
      ]
    },
    {
      "cell_type": "code",
      "execution_count": null,
      "metadata": {
        "id": "m9sP3nzlLMa4"
      },
      "outputs": [],
      "source": [
        "# parameter 개수\n",
        "N = len(X_train.loc[0]) #데이터의 파라미터 개수를 N에 대입"
      ]
    },
    {
      "cell_type": "code",
      "execution_count": null,
      "metadata": {
        "id": "qz7xz9dbLMa4",
        "outputId": "f33f41b0-69b7-48e1-cd81-b1042c595dbd"
      },
      "outputs": [
        {
          "data": {
            "text/plain": [
              "array([0.96086738, 0.46630589, 0.0703372 ])"
            ]
          },
          "execution_count": 47,
          "metadata": {},
          "output_type": "execute_result"
        }
      ],
      "source": [
        "# 초기 parameter들을 임의로 설정해줍니다.\n",
        "parameters = np.array([random.random() for i in range(N)]) #초기 파라미터 숫자들을 임의로 랜덤하게 뽑아서 넣어주기\n",
        "random_parameters = parameters.copy()\n",
        "parameters"
      ]
    },
    {
      "cell_type": "markdown",
      "metadata": {
        "id": "QINz-EAKLMa4"
      },
      "source": [
        "### * LaTeX   \n",
        "\n",
        "Jupyter Notebook은 LaTeX 문법으로 수식 입력을 지원하고 있습니다.  \n",
        "LaTeX문법으로 아래의 수식을 완성해주세요  \n",
        "http://triki.net/apps/3466  \n",
        "https://jjycjnmath.tistory.com/117"
      ]
    },
    {
      "cell_type": "markdown",
      "metadata": {
        "id": "D2DsTfXuLMa5"
      },
      "source": [
        "## Dot product\n",
        "## $z = X_i \\theta$"
      ]
    },
    {
      "cell_type": "code",
      "execution_count": null,
      "metadata": {
        "id": "2y05lS6xLMa5"
      },
      "outputs": [],
      "source": [
        "def dot_product(X, parameters): #내적계산\n",
        "    z = 0\n",
        "    for i in range(len(parameters)):\n",
        "        z += X[i]*parameters[i] #파라미터와 X데이터값을 곱해줌\n",
        "    return z"
      ]
    },
    {
      "cell_type": "markdown",
      "metadata": {
        "id": "fOGPEhtOLMa5"
      },
      "source": [
        "## Logistic Function\n"
      ]
    },
    {
      "cell_type": "markdown",
      "source": [
        "![image.png](data:image/png;base64,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)"
      ],
      "metadata": {
        "id": "ULOQlCL6f43k"
      }
    },
    {
      "cell_type": "code",
      "execution_count": null,
      "metadata": {
        "id": "2awM57u5LMa5"
      },
      "outputs": [],
      "source": [
        "def logistic(X, parameters):\n",
        "    z = dot_product(X, parameters) #X와 파라미터 내적 수행\n",
        "    p = 1/(1+np.exp(-z)) #로지스틱 수식에 z대입\n",
        "    return p"
      ]
    },
    {
      "cell_type": "code",
      "execution_count": null,
      "metadata": {
        "id": "WVaZEwrdLMa5",
        "outputId": "69df57b6-a806-497d-fb1d-3f810d8704a8"
      },
      "outputs": [
        {
          "data": {
            "text/plain": [
              "0.820065570732581"
            ]
          },
          "execution_count": 50,
          "metadata": {},
          "output_type": "execute_result"
        }
      ],
      "source": [
        "logistic(X_train.iloc[1], parameters) #로지스틱 계산"
      ]
    },
    {
      "cell_type": "markdown",
      "metadata": {
        "id": "E6cXHl8bLMa6"
      },
      "source": [
        "## Object function\n",
        "\n",
        "Object Function : 목적함수는 Gradient Descent를 통해 최적화 하고자 하는 함수입니다.  \n",
        "<br>\n",
        "선형 회귀의 목적함수\n",
        "## $l(\\theta) = \\frac{1}{2}\\Sigma(y_i - \\theta^{T}X_i)^2$  \n",
        "참고) $\\hat{y_i} = \\theta^{T}X_i$\n",
        "  \n",
        "로지스틱 회귀의 목적함수를 작성해주세요  \n",
        "(선형 회귀의 목적함수처럼 강의에 나온대로 작성해주세요. 평균을 고려하는 것은 뒤에 코드에서 수행합니다)"
      ]
    },
    {
      "cell_type": "markdown",
      "source": [
        "![image.png](data:image/png;base64,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)"
      ],
      "metadata": {
        "id": "zVQdTHEshAuZ"
      }
    },
    {
      "cell_type": "code",
      "execution_count": null,
      "metadata": {
        "id": "FnGRAur3LMa6"
      },
      "outputs": [],
      "source": [
        "def minus_log_cross_entropy_i(X, y, parameters):\n",
        "    p = logistic(X, parameters) #p계산\n",
        "    loss = (y * np.log(p) + (1 - y) * np.log(1-p)) #위의 목적함수 수식대로 계산하기\n",
        "    return -loss"
      ]
    },
    {
      "cell_type": "code",
      "execution_count": null,
      "metadata": {
        "id": "C922eXYyLMa6"
      },
      "outputs": [],
      "source": [
        "def mse_i(X, y, parameters):\n",
        "    y_hat = np.dot(X, parameters.T) #예측값 계산(X*파라미터의 전치함수)\n",
        "    loss = ((y - y_hat)**2) / 2# 예측값과 실젯값을 활용한 MSE 계산\n",
        "    return loss"
      ]
    },
    {
      "cell_type": "code",
      "execution_count": null,
      "metadata": {
        "id": "0j-MhGkyLMa6"
      },
      "outputs": [],
      "source": [
        "def batch_loss(X_set, y_set, parameters, loss_function, n): #n:현재 배치의 데이터 수\n",
        "    loss = 0\n",
        "    for i in range(X_set.shape[0]):\n",
        "        X = X_set.iloc[i,:]\n",
        "        y = y_set.iloc[i]\n",
        "        loss += loss_function(X, y, parameters)\n",
        "    loss = loss / n #loss 평균값으로 계산\n",
        "    return loss"
      ]
    },
    {
      "cell_type": "code",
      "execution_count": null,
      "metadata": {
        "id": "uSkPS5olLMa7",
        "outputId": "62643020-b168-4309-ea05-e41d91063b2a"
      },
      "outputs": [
        {
          "data": {
            "text/plain": [
              "1.1767008547830715"
            ]
          },
          "execution_count": 54,
          "metadata": {},
          "output_type": "execute_result"
        }
      ],
      "source": [
        "batch_loss(X_test, y_test, parameters, minus_log_cross_entropy_i, len(X_test))"
      ]
    },
    {
      "cell_type": "markdown",
      "metadata": {
        "id": "ACLi9vCyLMa7"
      },
      "source": [
        "## Gradient\n",
        "위의 선형회귀의 목적함수 $l(\\theta)$와 로지스틱회귀의 목적함수 $l(p)$의 gradient를 작성해주세요  \n",
        "(위의 목적함수를 참고해서 작성해주세요 = 평균을 고려하는 것은 뒤에 코드에서 수행합니다)"
      ]
    },
    {
      "cell_type": "markdown",
      "source": [
        "![image.png](data:image/png;base64,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)"
      ],
      "metadata": {
        "id": "uucqh4cygTfG"
      }
    },
    {
      "cell_type": "code",
      "execution_count": null,
      "metadata": {
        "id": "apZ0Miz5LMa7"
      },
      "outputs": [],
      "source": [
        "def get_gradient_ij(X, y, parameters, j, model):\n",
        "    if model == 'linear':\n",
        "        y_hat = np.dot(X, parameters.T)\n",
        "        gradient = (y - y_hat) * X[j]\n",
        "    else:\n",
        "        p = logistic(X, parameters)\n",
        "        gradient = (y - p) * X[j]\n",
        "    return -gradient"
      ]
    },
    {
      "cell_type": "code",
      "execution_count": null,
      "metadata": {
        "id": "XXBe6q8gLMa7",
        "outputId": "a49995b3-c2af-4f0d-a9d4-a5f8fc6f9a63"
      },
      "outputs": [
        {
          "data": {
            "text/plain": [
              "-0.05172066921210632"
            ]
          },
          "execution_count": 56,
          "metadata": {},
          "output_type": "execute_result"
        }
      ],
      "source": [
        "get_gradient_ij(X_train.iloc[0,:], y_train.iloc[0], parameters, 1, 'logistic')"
      ]
    },
    {
      "cell_type": "code",
      "execution_count": null,
      "metadata": {
        "id": "7L-ym2yFfpt_",
        "outputId": "898d9e22-3f7c-48bb-b186-55d4ecd2eb53"
      },
      "outputs": [
        {
          "ename": "FileNotFoundError",
          "evalue": "No such file or directory: 'C:/Users/김건우/Desktop/배치알고리즘_구현.png'",
          "output_type": "error",
          "traceback": [
            "\u001b[1;31m---------------------------------------------------------------------------\u001b[0m",
            "\u001b[1;31mTypeError\u001b[0m                                 Traceback (most recent call last)",
            "\u001b[1;32mc:\\Users\\momo8\\AppData\\Local\\Programs\\Python\\Python37\\lib\\site-packages\\IPython\\core\\display.py\u001b[0m in \u001b[0;36m_data_and_metadata\u001b[1;34m(self, always_both)\u001b[0m\n\u001b[0;32m   1299\u001b[0m         \u001b[1;32mtry\u001b[0m\u001b[1;33m:\u001b[0m\u001b[1;33m\u001b[0m\u001b[0m\n\u001b[1;32m-> 1300\u001b[1;33m             \u001b[0mb64_data\u001b[0m \u001b[1;33m=\u001b[0m \u001b[0mb2a_base64\u001b[0m\u001b[1;33m(\u001b[0m\u001b[0mself\u001b[0m\u001b[1;33m.\u001b[0m\u001b[0mdata\u001b[0m\u001b[1;33m)\u001b[0m\u001b[1;33m.\u001b[0m\u001b[0mdecode\u001b[0m\u001b[1;33m(\u001b[0m\u001b[1;34m'ascii'\u001b[0m\u001b[1;33m)\u001b[0m\u001b[1;33m\u001b[0m\u001b[0m\n\u001b[0m\u001b[0;32m   1301\u001b[0m         \u001b[1;32mexcept\u001b[0m \u001b[0mTypeError\u001b[0m\u001b[1;33m:\u001b[0m\u001b[1;33m\u001b[0m\u001b[0m\n",
            "\u001b[1;31mTypeError\u001b[0m: a bytes-like object is required, not 'str'",
            "\nDuring handling of the above exception, another exception occurred:\n",
            "\u001b[1;31mFileNotFoundError\u001b[0m                         Traceback (most recent call last)",
            "\u001b[1;32mc:\\Users\\momo8\\AppData\\Local\\Programs\\Python\\Python37\\lib\\site-packages\\IPython\\core\\formatters.py\u001b[0m in \u001b[0;36m__call__\u001b[1;34m(self, obj, include, exclude)\u001b[0m\n\u001b[0;32m    968\u001b[0m \u001b[1;33m\u001b[0m\u001b[0m\n\u001b[0;32m    969\u001b[0m             \u001b[1;32mif\u001b[0m \u001b[0mmethod\u001b[0m \u001b[1;32mis\u001b[0m \u001b[1;32mnot\u001b[0m \u001b[1;32mNone\u001b[0m\u001b[1;33m:\u001b[0m\u001b[1;33m\u001b[0m\u001b[0m\n\u001b[1;32m--> 970\u001b[1;33m                 \u001b[1;32mreturn\u001b[0m \u001b[0mmethod\u001b[0m\u001b[1;33m(\u001b[0m\u001b[0minclude\u001b[0m\u001b[1;33m=\u001b[0m\u001b[0minclude\u001b[0m\u001b[1;33m,\u001b[0m \u001b[0mexclude\u001b[0m\u001b[1;33m=\u001b[0m\u001b[0mexclude\u001b[0m\u001b[1;33m)\u001b[0m\u001b[1;33m\u001b[0m\u001b[0m\n\u001b[0m\u001b[0;32m    971\u001b[0m             \u001b[1;32mreturn\u001b[0m \u001b[1;32mNone\u001b[0m\u001b[1;33m\u001b[0m\u001b[0m\n\u001b[0;32m    972\u001b[0m         \u001b[1;32melse\u001b[0m\u001b[1;33m:\u001b[0m\u001b[1;33m\u001b[0m\u001b[0m\n",
            "\u001b[1;32mc:\\Users\\momo8\\AppData\\Local\\Programs\\Python\\Python37\\lib\\site-packages\\IPython\\core\\display.py\u001b[0m in \u001b[0;36m_repr_mimebundle_\u001b[1;34m(self, include, exclude)\u001b[0m\n\u001b[0;32m   1288\u001b[0m         \u001b[1;32mif\u001b[0m \u001b[0mself\u001b[0m\u001b[1;33m.\u001b[0m\u001b[0membed\u001b[0m\u001b[1;33m:\u001b[0m\u001b[1;33m\u001b[0m\u001b[0m\n\u001b[0;32m   1289\u001b[0m             \u001b[0mmimetype\u001b[0m \u001b[1;33m=\u001b[0m \u001b[0mself\u001b[0m\u001b[1;33m.\u001b[0m\u001b[0m_mimetype\u001b[0m\u001b[1;33m\u001b[0m\u001b[0m\n\u001b[1;32m-> 1290\u001b[1;33m             \u001b[0mdata\u001b[0m\u001b[1;33m,\u001b[0m \u001b[0mmetadata\u001b[0m \u001b[1;33m=\u001b[0m \u001b[0mself\u001b[0m\u001b[1;33m.\u001b[0m\u001b[0m_data_and_metadata\u001b[0m\u001b[1;33m(\u001b[0m\u001b[0malways_both\u001b[0m\u001b[1;33m=\u001b[0m\u001b[1;32mTrue\u001b[0m\u001b[1;33m)\u001b[0m\u001b[1;33m\u001b[0m\u001b[0m\n\u001b[0m\u001b[0;32m   1291\u001b[0m             \u001b[1;32mif\u001b[0m \u001b[0mmetadata\u001b[0m\u001b[1;33m:\u001b[0m\u001b[1;33m\u001b[0m\u001b[0m\n\u001b[0;32m   1292\u001b[0m                 \u001b[0mmetadata\u001b[0m \u001b[1;33m=\u001b[0m \u001b[1;33m{\u001b[0m\u001b[0mmimetype\u001b[0m\u001b[1;33m:\u001b[0m \u001b[0mmetadata\u001b[0m\u001b[1;33m}\u001b[0m\u001b[1;33m\u001b[0m\u001b[0m\n",
            "\u001b[1;32mc:\\Users\\momo8\\AppData\\Local\\Programs\\Python\\Python37\\lib\\site-packages\\IPython\\core\\display.py\u001b[0m in \u001b[0;36m_data_and_metadata\u001b[1;34m(self, always_both)\u001b[0m\n\u001b[0;32m   1301\u001b[0m         \u001b[1;32mexcept\u001b[0m \u001b[0mTypeError\u001b[0m\u001b[1;33m:\u001b[0m\u001b[1;33m\u001b[0m\u001b[0m\n\u001b[0;32m   1302\u001b[0m             raise FileNotFoundError(\n\u001b[1;32m-> 1303\u001b[1;33m                 \"No such file or directory: '%s'\" % (self.data))\n\u001b[0m\u001b[0;32m   1304\u001b[0m         \u001b[0mmd\u001b[0m \u001b[1;33m=\u001b[0m \u001b[1;33m{\u001b[0m\u001b[1;33m}\u001b[0m\u001b[1;33m\u001b[0m\u001b[0m\n\u001b[0;32m   1305\u001b[0m         \u001b[1;32mif\u001b[0m \u001b[0mself\u001b[0m\u001b[1;33m.\u001b[0m\u001b[0mmetadata\u001b[0m\u001b[1;33m:\u001b[0m\u001b[1;33m\u001b[0m\u001b[0m\n",
            "\u001b[1;31mFileNotFoundError\u001b[0m: No such file or directory: 'C:/Users/김건우/Desktop/배치알고리즘_구현.png'"
          ]
        },
        {
          "ename": "FileNotFoundError",
          "evalue": "No such file or directory: 'C:/Users/김건우/Desktop/배치알고리즘_구현.png'",
          "output_type": "error",
          "traceback": [
            "\u001b[1;31m---------------------------------------------------------------------------\u001b[0m",
            "\u001b[1;31mTypeError\u001b[0m                                 Traceback (most recent call last)",
            "\u001b[1;32mc:\\Users\\momo8\\AppData\\Local\\Programs\\Python\\Python37\\lib\\site-packages\\IPython\\core\\display.py\u001b[0m in \u001b[0;36m_data_and_metadata\u001b[1;34m(self, always_both)\u001b[0m\n\u001b[0;32m   1299\u001b[0m         \u001b[1;32mtry\u001b[0m\u001b[1;33m:\u001b[0m\u001b[1;33m\u001b[0m\u001b[0m\n\u001b[1;32m-> 1300\u001b[1;33m             \u001b[0mb64_data\u001b[0m \u001b[1;33m=\u001b[0m \u001b[0mb2a_base64\u001b[0m\u001b[1;33m(\u001b[0m\u001b[0mself\u001b[0m\u001b[1;33m.\u001b[0m\u001b[0mdata\u001b[0m\u001b[1;33m)\u001b[0m\u001b[1;33m.\u001b[0m\u001b[0mdecode\u001b[0m\u001b[1;33m(\u001b[0m\u001b[1;34m'ascii'\u001b[0m\u001b[1;33m)\u001b[0m\u001b[1;33m\u001b[0m\u001b[0m\n\u001b[0m\u001b[0;32m   1301\u001b[0m         \u001b[1;32mexcept\u001b[0m \u001b[0mTypeError\u001b[0m\u001b[1;33m:\u001b[0m\u001b[1;33m\u001b[0m\u001b[0m\n",
            "\u001b[1;31mTypeError\u001b[0m: a bytes-like object is required, not 'str'",
            "\nDuring handling of the above exception, another exception occurred:\n",
            "\u001b[1;31mFileNotFoundError\u001b[0m                         Traceback (most recent call last)",
            "\u001b[1;32mc:\\Users\\momo8\\AppData\\Local\\Programs\\Python\\Python37\\lib\\site-packages\\IPython\\core\\formatters.py\u001b[0m in \u001b[0;36m__call__\u001b[1;34m(self, obj)\u001b[0m\n\u001b[0;32m    343\u001b[0m             \u001b[0mmethod\u001b[0m \u001b[1;33m=\u001b[0m \u001b[0mget_real_method\u001b[0m\u001b[1;33m(\u001b[0m\u001b[0mobj\u001b[0m\u001b[1;33m,\u001b[0m \u001b[0mself\u001b[0m\u001b[1;33m.\u001b[0m\u001b[0mprint_method\u001b[0m\u001b[1;33m)\u001b[0m\u001b[1;33m\u001b[0m\u001b[0m\n\u001b[0;32m    344\u001b[0m             \u001b[1;32mif\u001b[0m \u001b[0mmethod\u001b[0m \u001b[1;32mis\u001b[0m \u001b[1;32mnot\u001b[0m \u001b[1;32mNone\u001b[0m\u001b[1;33m:\u001b[0m\u001b[1;33m\u001b[0m\u001b[0m\n\u001b[1;32m--> 345\u001b[1;33m                 \u001b[1;32mreturn\u001b[0m \u001b[0mmethod\u001b[0m\u001b[1;33m(\u001b[0m\u001b[1;33m)\u001b[0m\u001b[1;33m\u001b[0m\u001b[0m\n\u001b[0m\u001b[0;32m    346\u001b[0m             \u001b[1;32mreturn\u001b[0m \u001b[1;32mNone\u001b[0m\u001b[1;33m\u001b[0m\u001b[0m\n\u001b[0;32m    347\u001b[0m         \u001b[1;32melse\u001b[0m\u001b[1;33m:\u001b[0m\u001b[1;33m\u001b[0m\u001b[0m\n",
            "\u001b[1;32mc:\\Users\\momo8\\AppData\\Local\\Programs\\Python\\Python37\\lib\\site-packages\\IPython\\core\\display.py\u001b[0m in \u001b[0;36m_repr_png_\u001b[1;34m(self)\u001b[0m\n\u001b[0;32m   1318\u001b[0m     \u001b[1;32mdef\u001b[0m \u001b[0m_repr_png_\u001b[0m\u001b[1;33m(\u001b[0m\u001b[0mself\u001b[0m\u001b[1;33m)\u001b[0m\u001b[1;33m:\u001b[0m\u001b[1;33m\u001b[0m\u001b[0m\n\u001b[0;32m   1319\u001b[0m         \u001b[1;32mif\u001b[0m \u001b[0mself\u001b[0m\u001b[1;33m.\u001b[0m\u001b[0membed\u001b[0m \u001b[1;32mand\u001b[0m \u001b[0mself\u001b[0m\u001b[1;33m.\u001b[0m\u001b[0mformat\u001b[0m \u001b[1;33m==\u001b[0m \u001b[0mself\u001b[0m\u001b[1;33m.\u001b[0m\u001b[0m_FMT_PNG\u001b[0m\u001b[1;33m:\u001b[0m\u001b[1;33m\u001b[0m\u001b[0m\n\u001b[1;32m-> 1320\u001b[1;33m             \u001b[1;32mreturn\u001b[0m \u001b[0mself\u001b[0m\u001b[1;33m.\u001b[0m\u001b[0m_data_and_metadata\u001b[0m\u001b[1;33m(\u001b[0m\u001b[1;33m)\u001b[0m\u001b[1;33m\u001b[0m\u001b[0m\n\u001b[0m\u001b[0;32m   1321\u001b[0m \u001b[1;33m\u001b[0m\u001b[0m\n\u001b[0;32m   1322\u001b[0m     \u001b[1;32mdef\u001b[0m \u001b[0m_repr_jpeg_\u001b[0m\u001b[1;33m(\u001b[0m\u001b[0mself\u001b[0m\u001b[1;33m)\u001b[0m\u001b[1;33m:\u001b[0m\u001b[1;33m\u001b[0m\u001b[0m\n",
            "\u001b[1;32mc:\\Users\\momo8\\AppData\\Local\\Programs\\Python\\Python37\\lib\\site-packages\\IPython\\core\\display.py\u001b[0m in \u001b[0;36m_data_and_metadata\u001b[1;34m(self, always_both)\u001b[0m\n\u001b[0;32m   1301\u001b[0m         \u001b[1;32mexcept\u001b[0m \u001b[0mTypeError\u001b[0m\u001b[1;33m:\u001b[0m\u001b[1;33m\u001b[0m\u001b[0m\n\u001b[0;32m   1302\u001b[0m             raise FileNotFoundError(\n\u001b[1;32m-> 1303\u001b[1;33m                 \"No such file or directory: '%s'\" % (self.data))\n\u001b[0m\u001b[0;32m   1304\u001b[0m         \u001b[0mmd\u001b[0m \u001b[1;33m=\u001b[0m \u001b[1;33m{\u001b[0m\u001b[1;33m}\u001b[0m\u001b[1;33m\u001b[0m\u001b[0m\n\u001b[0;32m   1305\u001b[0m         \u001b[1;32mif\u001b[0m \u001b[0mself\u001b[0m\u001b[1;33m.\u001b[0m\u001b[0mmetadata\u001b[0m\u001b[1;33m:\u001b[0m\u001b[1;33m\u001b[0m\u001b[0m\n",
            "\u001b[1;31mFileNotFoundError\u001b[0m: No such file or directory: 'C:/Users/김건우/Desktop/배치알고리즘_구현.png'"
          ]
        },
        {
          "data": {
            "text/plain": [
              "<IPython.core.display.Image object>"
            ]
          },
          "execution_count": 57,
          "metadata": {},
          "output_type": "execute_result"
        }
      ],
      "source": [
        "from IPython.display import Image\n",
        "\n",
        "Image(\"C:/Users/김건우/Desktop/배치알고리즘_구현.png\")"
      ]
    },
    {
      "cell_type": "markdown",
      "metadata": {
        "id": "vWm4Clk5fpt_"
      },
      "source": [
        ""
      ]
    },
    {
      "cell_type": "markdown",
      "metadata": {
        "id": "wTfzKh_nLMa7"
      },
      "source": [
        "## Batch Gradient\n",
        "하나의 배치 (X_set, y_set)에 대해 기울기를 구하는 코드를 작성해주세요"
      ]
    },
    {
      "cell_type": "code",
      "execution_count": null,
      "metadata": {
        "id": "Qby2_X1vLMa7"
      },
      "outputs": [],
      "source": [
        "def batch_gradient(X_set, y_set, parameters, model):\n",
        "    gradients = [0 for _ in range(len(parameters))]\n",
        "    \n",
        "    for i in range(len(X_set)):\n",
        "        X = X_set.iloc[i,:]\n",
        "        y = y_set.iloc[i]\n",
        "        for j in range(len(parameters)):\n",
        "            gradients[j] += get_gradient_ij(X, y, parameters, j, model)\n",
        "    \n",
        "    return gradients"
      ]
    },
    {
      "cell_type": "code",
      "execution_count": null,
      "metadata": {
        "id": "rHxBS5RnLMa8",
        "outputId": "c0547c5e-8dc3-40f5-af0d-0f270c1b4ed1"
      },
      "outputs": [
        {
          "data": {
            "text/plain": [
              "[37.21479439828975, 15.465246301875736, 44.97660545396913]"
            ]
          },
          "execution_count": 33,
          "metadata": {},
          "output_type": "execute_result"
        }
      ],
      "source": [
        "gradients1 = batch_gradient(X_train, y_train, parameters, 'logistic')\n",
        "gradients1"
      ]
    },
    {
      "cell_type": "markdown",
      "metadata": {
        "id": "cQnlDboALMa8"
      },
      "source": [
        "## mini-batch\n",
        "인덱스로 미니 배치 나누기"
      ]
    },
    {
      "cell_type": "code",
      "execution_count": null,
      "metadata": {
        "id": "LgnfT6eHLMa8"
      },
      "outputs": [],
      "source": [
        "def batch_idx(X_train, batch_size):\n",
        "    N = len(X_train)\n",
        "    nb = (N // batch_size)+1 #number of batch\n",
        "    idx = np.array([i for i in range(N)])\n",
        "    idx_list = [idx[i*batch_size:(i+1)*batch_size] for i in range(nb) if len(idx[i*batch_size:(i+1)*batch_size]) != 0]\n",
        "    return idx_list"
      ]
    },
    {
      "cell_type": "markdown",
      "metadata": {
        "id": "9S9fk1UTLMa8"
      },
      "source": [
        "batch_idx 함수에 대한 설명을 batch_size와 함께 간략하게 작성해주세요  \n",
        "### 설명: 배치사이즈가 N이면 임의의 N개의 데이터만학습을 한다.\n",
        "### 전체데이터 수/배치사이즈  크기의 데이터 세트가 만들어지고, 한번 학습할 때 배치사이즈만큼의 데이터로 학습이된다. 즉,한번학습할 때 사용되는 데이터 크기를 의미한다."
      ]
    },
    {
      "cell_type": "markdown",
      "metadata": {
        "id": "4pMuZbkQLMa8"
      },
      "source": [
        "## Update Parameters\n",
        "기울기를 갱신하는 코드를 작성해주세요  \n",
        "(loss와 마찬가지로 기울기를 갱신할 때 배치 사이즈를 고려해 평균으로 갱신해주세요)"
      ]
    },
    {
      "cell_type": "code",
      "execution_count": null,
      "metadata": {
        "id": "loeL51rPLMa8"
      },
      "outputs": [],
      "source": [
        "def step(parameters, gradients, learning_rate, n): #n:현재 배치의 데이터 수\n",
        "    for i in range(len(parameters)):\n",
        "        gradients[i] *= learning_rate / n #설정한 러닝레이트대로 그레디언트를 조정한다.\n",
        "    parameters -= gradients #구해진 그레디언트값으로 파라미터를 업데이트한다.\n",
        "    return parameters"
      ]
    },
    {
      "cell_type": "code",
      "execution_count": null,
      "metadata": {
        "id": "NLB2dUVTLMa8",
        "outputId": "640118c8-09a8-4cfe-d575-88f125d0a22e"
      },
      "outputs": [
        {
          "data": {
            "text/plain": [
              "array([0.1594933 , 0.7145821 , 0.47652585])"
            ]
          },
          "execution_count": 35,
          "metadata": {},
          "output_type": "execute_result"
        }
      ],
      "source": [
        "step(parameters, gradients1, 0.01, len(X_train))"
      ]
    },
    {
      "cell_type": "markdown",
      "metadata": {
        "id": "RX8RJFd_LMa9"
      },
      "source": [
        "## Gradient Descent\n",
        "위에서 작성한 함수들을 조합해서 경사하강법 함수를 완성해주세요\n",
        "\n",
        "- learning_rate: 학습률  \n",
        "- tolerance: Step이 너무 작아서 더 이상의 학습이 무의미할 때 학습을 멈추는 조건  \n",
        "- batch: 기울기를 1번 갱신할 때 사용하는 데이터셋  \n",
        "- epoch:  \n",
        "- num_epoch:\n",
        "<br>\n",
        "\n",
        "BGD: 전체 데이터 셋에 대한 에러를 구한 뒤 기울기를 한번만 계산하여 모델의 parameter 를 업데이트 하는 방법\n",
        "SGD: 학습 한번에 하나의 데이터 셋에 대한 에러를 구한 뒤 기울기를 한번만 계산하여 모델의 parameter 를 업데이트 하는 방법\n",
        "MGD: 학습 한번에 일부의 데이터 셋에 대한 에러를 구한 뒤 기울기를 한번만 계산하여 모델의 parameter 를 업데이트 하는 방법\n",
        "<br>\n",
        "batch_size에 따른 경사하강법의 종류를 적어주세요  \n",
        "batch_size=1 -> SGD\n",
        "batch_size=k -> MGD  \n",
        "batch_size=whole -> BGD  "
      ]
    },
    {
      "cell_type": "code",
      "execution_count": null,
      "metadata": {
        "id": "ZGbnVHbbLMa9"
      },
      "outputs": [],
      "source": [
        "def gradient_descent(X_train, y_train, learning_rate = 0.1, num_epoch = 1000, tolerance = 0.00001, model = 'logistic', batch_size = 16):\n",
        "    stopper = False\n",
        "    \n",
        "    N = len(X_train.iloc[0])\n",
        "    \n",
        "    # train data의 파라미터 수 만큼 랜덤 파라미터 설정\n",
        "    parameters = np.random.rand(N)\n",
        "    \n",
        "    # 로지스틱 회귀는 minus_log_cross_entropy_i를 사용하고, 선형이라면 mse_i를 사용한다.\n",
        "    loss_function = minus_log_cross_entropy_i if model == 'logistic' else mse_i\n",
        "    \n",
        "    # 초기의 Loss값을 큰 값으로 설정\n",
        "    loss = 999\n",
        "    \n",
        "    batch_idx_list = batch_idx(X_train, batch_size)\n",
        "    \n",
        "    for epoch in range(num_epoch): #에폭수대로 학습\n",
        "        if stopper:\n",
        "            break\n",
        "        # 한번 학습때 사용할 데이터 셋을 구한다.\n",
        "        for idx in batch_idx_list:\n",
        "            # 한번 학습때 사용하는 X와 y\n",
        "            X_batch = X_train.iloc[idx,]\n",
        "            y_batch = y_train.iloc[idx]\n",
        "            # 현재 배치에 대해 그래디언트를 구한다.\n",
        "            gradients = batch_gradient(X_batch, y_batch, parameters, model)\n",
        "            # 구한 그래디언트를 바탕으로 파라미터 업데이트시키기\n",
        "            parameters = step(parameters, gradients, learning_rate, len(X_batch))\n",
        "            # 수정된 파라미터를 바탕으로 loss 다시 계산\n",
        "            new_loss = batch_loss(X_batch, y_batch, parameters, loss_function, len(X_batch))\n",
        "\n",
        "            if abs(new_loss - loss) < tolerance: #설정한 tolerance보다 loss가 작아지면, 학습을 중단한다.\n",
        "                stopper = True\n",
        "                break\n",
        "            # 학습중단이 아니라면 손실 함수를 제일 작은 손실함수로 변경해준다.\n",
        "            loss = new_loss\n",
        "        \n",
        "        if epoch%100 == 0: #백번 학습할때마다 상태를 출력한다.\n",
        "            print(f\"epoch: {epoch}  loss: {new_loss}  params: {parameters}  gradients: {gradients}\")\n",
        "    \n",
        "    return parameters"
      ]
    },
    {
      "cell_type": "markdown",
      "metadata": {
        "id": "3CTtc3eiLMa9"
      },
      "source": [
        "## Implement\n",
        "경사하강법 함수를 이용해 최적의 모수 찾아보세요. 학습을 진행할 때, Hyper Parameter를 바꿔가면서 학습시켜보세요."
      ]
    },
    {
      "cell_type": "markdown",
      "metadata": {
        "id": "KnUpYC7_LMa9"
      },
      "source": [
        "## Logistic Regression"
      ]
    },
    {
      "cell_type": "code",
      "execution_count": null,
      "metadata": {
        "id": "-LS6o3aeLMa-",
        "outputId": "3f78f54f-0e09-4e4e-ac0d-2c5eeaada300"
      },
      "outputs": [
        {
          "name": "stdout",
          "output_type": "stream",
          "text": [
            "epoch: 0  loss: 1.0530571057629667  params: [0.66864405 0.70735349 0.71829928]  gradients: [0.03392574707903419, 0.011002652639603806, 0.031843230668465394]\n",
            "epoch: 100  loss: 0.45681888957814454  params: [-0.79535015  0.86131813 -0.76416565]  gradients: [0.004326321294056589, -0.005981044772887339, 0.006817397162998029]\n",
            "epoch: 200  loss: 0.3933398001033099  params: [-1.02946852  1.38792198 -1.30383968]  gradients: [0.0013697333277199505, -0.004508884931794812, 0.004429709850354447]\n",
            "epoch: 300  loss: 0.3622970032423965  params: [-1.13741513  1.77795746 -1.6844184 ]  gradients: [0.0008980505789574224, -0.0033897312793988114, 0.0032910304636533487]\n",
            "epoch: 400  loss: 0.3441313413457225  params: [-1.21750779  2.07822886 -1.9749831 ]  gradients: [0.000722967582550417, -0.0026720551292709845, 0.002577280261752499]\n",
            "epoch: 500  loss: 0.3324792917872838  params: [-1.28379305  2.31924956 -2.2068272 ]  gradients: [0.0006096917417698879, -0.0021817005827449542, 0.0020930365000602627]\n",
            "epoch: 600  loss: 0.3245301594005541  params: [-1.34021437  2.51862266 -2.39766375]  gradients: [0.000523022350420095, -0.0018269559444740976, 0.0017448295503312311]\n",
            "epoch: 700  loss: 0.31886213852079964  params: [-1.38889571  2.68719382 -2.55834676]  gradients: [0.0004537527441074731, -0.0015587985320153794, 0.0014830446325382713]\n",
            "epoch: 800  loss: 0.314684601939478  params: [-1.43132877  2.83208245 -2.69596569]  gradients: [0.0003973284005901344, -0.0013491542125509226, 0.0012793799463386541]\n",
            "epoch: 900  loss: 0.31152564560771967  params: [-1.46863582  2.95820865 -2.81539697]  gradients: [0.00035070910799523547, -0.0011808909657626222, 0.0011166330839376716]\n"
          ]
        },
        {
          "data": {
            "text/plain": [
              "array([-1.50136913,  3.06807259, -2.91915316])"
            ]
          },
          "execution_count": 38,
          "metadata": {},
          "output_type": "execute_result"
        }
      ],
      "source": [
        "new_param_bgd = gradient_descent(X_train, y_train, batch_size = X_train.shape[0])\n",
        "new_param_bgd"
      ]
    },
    {
      "cell_type": "code",
      "execution_count": null,
      "metadata": {
        "id": "x0H5tnauLMa-",
        "outputId": "e708a2df-5941-4fab-8d05-324aace3fd97"
      },
      "outputs": [
        {
          "name": "stdout",
          "output_type": "stream",
          "text": [
            "epoch: 0  loss: 1.098043492094895  params: [-8.10968777  1.01537829 -9.38640104]  gradients: [3.9696140201561967, 6.202134245180141, 6.21971798679915]\n",
            "epoch: 100  loss: 0.605861293231324  params: [ -7.70141041   4.62271866 -10.44309471]  gradients: [2.631932077068133, 4.548377925225251, 4.432785552195961]\n",
            "epoch: 200  loss: 0.605861293231324  params: [ -7.70141041   4.62271866 -10.44309471]  gradients: [2.631932077068133, 4.548377925225251, 4.432785552195961]\n",
            "epoch: 300  loss: 0.605861293231324  params: [ -7.70141041   4.62271866 -10.44309471]  gradients: [2.631932077068133, 4.548377925225251, 4.432785552195961]\n",
            "epoch: 400  loss: 0.605861293231324  params: [ -7.70141041   4.62271866 -10.44309471]  gradients: [2.631932077068133, 4.548377925225251, 4.432785552195961]\n",
            "epoch: 500  loss: 0.605861293231324  params: [ -7.70141041   4.62271866 -10.44309471]  gradients: [2.631932077068133, 4.548377925225251, 4.432785552195961]\n",
            "epoch: 600  loss: 0.605861293231324  params: [ -7.70141041   4.62271866 -10.44309471]  gradients: [2.631932077068133, 4.548377925225251, 4.432785552195961]\n",
            "epoch: 700  loss: 0.605861293231324  params: [ -7.70141041   4.62271866 -10.44309471]  gradients: [2.631932077068133, 4.548377925225251, 4.432785552195961]\n",
            "epoch: 800  loss: 0.605861293231324  params: [ -7.70141041   4.62271866 -10.44309471]  gradients: [2.631932077068133, 4.548377925225251, 4.432785552195961]\n",
            "epoch: 900  loss: 0.605861293231324  params: [ -7.70141041   4.62271866 -10.44309471]  gradients: [2.631932077068133, 4.548377925225251, 4.432785552195961]\n"
          ]
        },
        {
          "data": {
            "text/plain": [
              "array([ -7.70141041,   4.62271866, -10.44309471])"
            ]
          },
          "execution_count": 59,
          "metadata": {},
          "output_type": "execute_result"
        }
      ],
      "source": [
        "new_param_sgd = gradient_descent(X_train, y_train, 16) #그냥 16으로 해봤다,\n",
        "new_param_sgd"
      ]
    },
    {
      "cell_type": "code",
      "execution_count": null,
      "metadata": {
        "id": "iGfXGoJaLMa-",
        "outputId": "610c0934-c010-4ee0-fe18-9995a4d8d671"
      },
      "outputs": [
        {
          "name": "stderr",
          "output_type": "stream",
          "text": [
            "c:\\Users\\momo8\\AppData\\Local\\Programs\\Python\\Python37\\lib\\site-packages\\ipykernel_launcher.py:3: RuntimeWarning: divide by zero encountered in log\n",
            "  This is separate from the ipykernel package so we can avoid doing imports until\n",
            "c:\\Users\\momo8\\AppData\\Local\\Programs\\Python\\Python37\\lib\\site-packages\\ipykernel_launcher.py:3: RuntimeWarning: invalid value encountered in multiply\n",
            "  This is separate from the ipykernel package so we can avoid doing imports until\n"
          ]
        },
        {
          "name": "stdout",
          "output_type": "stream",
          "text": [
            "epoch: 0  loss: 3.3188587105348337  params: [-28.32171701   8.12007695 -32.20408528]  gradients: [9.5576465076532, 19.21219397901949, 19.559042694868534]\n",
            "epoch: 100  loss: 5.741946838938911  params: [-37.5789214   -0.25767923 -37.56950977]  gradients: [21.18882860281886, 30.104966012824736, 26.916793442387778]\n",
            "epoch: 200  loss: 5.741946838946355  params: [-37.5789214   -0.25767923 -37.56950977]  gradients: [21.18882860282043, 30.104966012826935, 26.916793442392127]\n",
            "epoch: 300  loss: 5.741946838946355  params: [-37.5789214   -0.25767923 -37.56950977]  gradients: [21.18882860282043, 30.104966012826935, 26.916793442392127]\n",
            "epoch: 400  loss: 5.741946838946355  params: [-37.5789214   -0.25767923 -37.56950977]  gradients: [21.18882860282043, 30.104966012826935, 26.916793442392127]\n",
            "epoch: 500  loss: 5.741946838946355  params: [-37.5789214   -0.25767923 -37.56950977]  gradients: [21.18882860282043, 30.104966012826935, 26.916793442392127]\n",
            "epoch: 600  loss: 5.741946838946355  params: [-37.5789214   -0.25767923 -37.56950977]  gradients: [21.18882860282043, 30.104966012826935, 26.916793442392127]\n",
            "epoch: 700  loss: 5.741946838946355  params: [-37.5789214   -0.25767923 -37.56950977]  gradients: [21.18882860282043, 30.104966012826935, 26.916793442392127]\n",
            "epoch: 800  loss: 5.741946838946355  params: [-37.5789214   -0.25767923 -37.56950977]  gradients: [21.18882860282043, 30.104966012826935, 26.916793442392127]\n",
            "epoch: 900  loss: 5.741946838946355  params: [-37.5789214   -0.25767923 -37.56950977]  gradients: [21.18882860282043, 30.104966012826935, 26.916793442392127]\n"
          ]
        },
        {
          "data": {
            "text/plain": [
              "array([-37.5789214 ,  -0.25767923, -37.56950977])"
            ]
          },
          "execution_count": 58,
          "metadata": {},
          "output_type": "execute_result"
        }
      ],
      "source": [
        "new_param_mgd = gradient_descent(X_train, y_train, 64)\n",
        "new_param_mgd"
      ]
    },
    {
      "cell_type": "markdown",
      "metadata": {
        "id": "k0oCaZ0tLMa-"
      },
      "source": [
        "### Predict Label"
      ]
    },
    {
      "cell_type": "code",
      "execution_count": null,
      "metadata": {
        "id": "syJE3oiNLMa-"
      },
      "outputs": [],
      "source": [
        "y_predict = []\n",
        "for i in range(len(y_test)):\n",
        "    p = logistic(X_test.iloc[i,:], new_param_bgd)# new_param_bgd를 활용한 에측\n",
        "    if p> 0.5 :\n",
        "        y_predict.append(1)\n",
        "    else :\n",
        "        y_predict.append(0)\n",
        "y_predict_random = []\n",
        "for i in range(len(y_test)):\n",
        "    p = logistic(X_test.iloc[i,:], random_parameters) #random_parameters를 활용한 예측\n",
        "    if p> 0.5 :\n",
        "        y_predict_random.append(1)\n",
        "    else :\n",
        "        y_predict_random.append(0)"
      ]
    },
    {
      "cell_type": "markdown",
      "metadata": {
        "id": "pZKpFItfLMa-"
      },
      "source": [
        "### Confusion Matrix"
      ]
    },
    {
      "cell_type": "code",
      "execution_count": null,
      "metadata": {
        "id": "W4E1PgX5LMa-"
      },
      "outputs": [],
      "source": [
        "from sklearn.metrics import *"
      ]
    },
    {
      "cell_type": "code",
      "execution_count": null,
      "metadata": {
        "id": "-veTwxu4LMa-",
        "outputId": "95c66d7f-5e1e-43a3-eee5-57264d6425ea"
      },
      "outputs": [
        {
          "data": {
            "text/plain": [
              "array([[38,  2],\n",
              "       [ 4,  6]], dtype=int64)"
            ]
          },
          "execution_count": 62,
          "metadata": {},
          "output_type": "execute_result"
        }
      ],
      "source": [
        "tn, fp, fn, tp = confusion_matrix(y_test, y_predict).ravel()\n",
        "confusion_matrix(y_test, y_predict) #confusion matrix는 주로 f1score, recall등등 값을 구할때 사용된다(fp,tp,fn,tn)"
      ]
    },
    {
      "cell_type": "code",
      "execution_count": null,
      "metadata": {
        "id": "h4_dW9rDLMa_",
        "outputId": "c648df3f-42a4-46ce-829e-d5e9efc52e3f"
      },
      "outputs": [
        {
          "name": "stdout",
          "output_type": "stream",
          "text": [
            "accuracy: 0.88\n"
          ]
        }
      ],
      "source": [
        "accuracy = (tp+tn) / (tp+fn+fp+tn)\n",
        "print(\"accuracy:\",accuracy)"
      ]
    },
    {
      "cell_type": "markdown",
      "metadata": {
        "id": "XIgqa85aLMa_"
      },
      "source": [
        "## Linear regression\n",
        "### $y = 0.5 + 2.7x$"
      ]
    },
    {
      "cell_type": "markdown",
      "metadata": {
        "id": "qYeIg9QNLMa_"
      },
      "source": [
        "### Data"
      ]
    },
    {
      "cell_type": "code",
      "execution_count": null,
      "metadata": {
        "id": "nv8-yhszLMa_"
      },
      "outputs": [],
      "source": [
        "raw_X = np.random.rand(150)\n",
        "y = 2.7*raw_X + 0.5 + np.random.randn(150)"
      ]
    },
    {
      "cell_type": "code",
      "execution_count": null,
      "metadata": {
        "id": "07XtxLGWLMa_"
      },
      "outputs": [],
      "source": [
        "tmp = np.array([1 for _ in range(150)])\n",
        "X = np.vstack((tmp, raw_X)).T\n",
        "X = pd.DataFrame(X)\n",
        "y = pd.Series(y)"
      ]
    },
    {
      "cell_type": "markdown",
      "metadata": {
        "id": "6oENC02TLMa_"
      },
      "source": [
        "### Estimation"
      ]
    },
    {
      "cell_type": "code",
      "execution_count": null,
      "metadata": {
        "id": "fu578YrKLMa_",
        "outputId": "b09ec42c-a317-4557-b3d4-a6a09a6fb773"
      },
      "outputs": [
        {
          "data": {
            "text/plain": [
              "array([0.63144463, 2.57446828])"
            ]
          },
          "execution_count": 66,
          "metadata": {},
          "output_type": "execute_result"
        }
      ],
      "source": [
        "#정규방정식\n",
        "theta = np.linalg.inv(np.dot(X.T,X)).dot(X.T).dot(y)\n",
        "theta"
      ]
    },
    {
      "cell_type": "code",
      "execution_count": null,
      "metadata": {
        "id": "M74iqj4WLMa_",
        "outputId": "0dd3bd17-ffdf-4454-e972-f1902746e826"
      },
      "outputs": [
        {
          "name": "stdout",
          "output_type": "stream",
          "text": [
            "epoch: 0  loss: 0.4931309369162536  params: [1.08136547 1.05966605]  gradients: [-0.04172744721089453, -0.017902855636565986]\n",
            "epoch: 100  loss: 0.49796781699622844  params: [0.7078048  2.47980508]  gradients: [-0.01971004019310149, 0.0013901211995447139]\n",
            "epoch: 200  loss: 0.4981287158804268  params: [0.70706735 2.48118717]  gradients: [-0.019730902806139674, 0.0013919763965386633]\n",
            "epoch: 300  loss: 0.4981288932167644  params: [0.70706654 2.4811887 ]  gradients: [-0.019730925787532428, 0.0013919784401470348]\n",
            "epoch: 400  loss: 0.4981288934121111  params: [0.70706654 2.4811887 ]  gradients: [-0.019730925812847785, 0.0013919784423981913]\n",
            "epoch: 500  loss: 0.49812889341232597  params: [0.70706654 2.4811887 ]  gradients: [-0.019730925812875638, 0.0013919784424006655]\n",
            "epoch: 600  loss: 0.49812889341232597  params: [0.70706654 2.4811887 ]  gradients: [-0.019730925812875638, 0.0013919784424006655]\n",
            "epoch: 700  loss: 0.49812889341232597  params: [0.70706654 2.4811887 ]  gradients: [-0.019730925812875638, 0.0013919784424006655]\n",
            "epoch: 800  loss: 0.49812889341232597  params: [0.70706654 2.4811887 ]  gradients: [-0.019730925812875638, 0.0013919784424006655]\n",
            "epoch: 900  loss: 0.49812889341232597  params: [0.70706654 2.4811887 ]  gradients: [-0.019730925812875638, 0.0013919784424006655]\n"
          ]
        },
        {
          "data": {
            "text/plain": [
              "array([0.70706654, 2.4811887 ])"
            ]
          },
          "execution_count": 68,
          "metadata": {},
          "output_type": "execute_result"
        }
      ],
      "source": [
        "#경사하강법\n",
        "new_param = gradient_descent(X, y, model='linear')\n",
        "new_param"
      ]
    },
    {
      "cell_type": "code",
      "execution_count": null,
      "metadata": {
        "id": "Ii3zBOwSLMa_"
      },
      "outputs": [],
      "source": [
        "y_hat_NE = theta.dot(X.T)\n",
        "y_hat_GD = new_param.dot(X.T)"
      ]
    },
    {
      "cell_type": "markdown",
      "metadata": {
        "id": "oCVynFSPLMbA"
      },
      "source": [
        "### Visualization\n",
        "시각화를 통해 정규방정식과 경사하강법을 통한 선형회귀를 비교해보세요  \n",
        "(밑의 코드를 실행만 시키면 됩니다. 추가 코드 x)"
      ]
    },
    {
      "cell_type": "code",
      "execution_count": null,
      "metadata": {
        "id": "UoEACrbYLMbA",
        "outputId": "7bcdccbb-aa01-4794-f9f2-93adfbe95ee3"
      },
      "outputs": [
        {
          "data": {
            "image/png": "[encoded data removed]",
            "text/plain": [
              "<Figure size 432x288 with 1 Axes>"
            ]
          },
          "metadata": {
            "needs_background": "light"
          },
          "output_type": "display_data"
        }
      ],
      "source": [
        "import matplotlib.pyplot as plt\n",
        "plt.plot(X.iloc[:,1], y, '.k') #산점도\n",
        "plt.plot(X.iloc[:,1], y_hat_NE, '-b', label = 'NE') #정규방정식\n",
        "plt.plot(X.iloc[:,1], y_hat_GD, '-r', label = 'GD') #경사하강법\n",
        "plt.legend()\n",
        "plt.show()\n",
        "\n",
        "#두 방법 모두 비슷한 형태를 보여준다. 잘 예측한 것 같다."
      ]
    },
    {
      "cell_type": "code",
      "execution_count": null,
      "metadata": {
        "id": "ijgIcAdGLMbA"
      },
      "outputs": [],
      "source": [
        ""
      ]
    }
  ],
  "metadata": {
    "colab": {
      "name": "wk2_optimization_assignment_국주현.ipynb",
      "provenance": [],
      "collapsed_sections": [
        "QINz-EAKLMa4",
        "9S9fk1UTLMa8",
        "k0oCaZ0tLMa-",
        "pZKpFItfLMa-",
        "qYeIg9QNLMa_",
        "6oENC02TLMa_",
        "oCVynFSPLMbA"
      ]
    },
    "kernelspec": {
      "display_name": "Python 3.7.0 64-bit",
      "language": "python",
      "name": "python3"
    },
    "language_info": {
      "codemirror_mode": {
        "name": "ipython",
        "version": 3
      },
      "file_extension": ".py",
      "mimetype": "text/x-python",
      "name": "python",
      "nbconvert_exporter": "python",
      "pygments_lexer": "ipython3",
      "version": "3.7.0"
    },
    "vscode": {
      "interpreter": {
        "hash": "9e4da2e68e52eaecd09ab559ce3da5a5877c5e2c60ae63dc0cc3d4b3b47ebf09"
      }
    }
  },
  "nbformat": 4,
  "nbformat_minor": 0
}