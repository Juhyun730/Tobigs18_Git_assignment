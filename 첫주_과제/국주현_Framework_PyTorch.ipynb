{
  "cells": [
    {
      "cell_type": "markdown",
      "metadata": {
        "id": "IabIA345uW2s"
      },
      "source": [
        "## 코드\n"
      ]
    },
    {
      "cell_type": "markdown",
      "metadata": {
        "id": "lt1H5o-poBfF"
      },
      "source": [
        "# 1. \n"
      ]
    },
    {
      "cell_type": "code",
      "execution_count": null,
      "metadata": {
        "id": "B1X8mpttn-Vi"
      },
      "outputs": [],
      "source": [
        "import torch\n",
        "import torch.nn as nn\n",
        "import torch.nn.functional as F\n",
        "import torch.optim as optim\n",
        "import torchvision\n",
        "import torchvision.transforms as transfroms #필요한 라이브러리 임포트 시키기\n",
        " \n",
        "device = 'cuda' if torch.cuda.is_available() else 'cpu' #gpu \n",
        "torch.manual_seed(777)\n",
        "if device == 'cuda':\n",
        "    torch.cuda.manual_seed_all(777)\n",
        "print(device + \" is available\")\n",
        " \n",
        "learning_rate = 0.001 #러닝레이트\n",
        "batch_size = 100 #배치사이즈 100\n",
        "num_classes = 10 #클래스 개수가 10개\n",
        "epochs = 5 #5에폭입니다."
      ]
    },
    {
      "cell_type": "markdown",
      "metadata": {
        "id": "dWzCD1LRn-vT"
      },
      "source": [
        "# 2."
      ]
    },
    {
      "cell_type": "code",
      "execution_count": null,
      "metadata": {
        "id": "7YfkyOQioSBj"
      },
      "outputs": [],
      "source": [
        "train_set = torchvision.datasets.MNIST( #엠니스트 데이터셋 로딩하기\n",
        "    root = './data/MNIST',\n",
        "    train = True,\n",
        "    download = True,\n",
        "    transform = transfroms.Compose([\n",
        "        transfroms.ToTensor() #텐셔형태로 변환\n",
        "    ])\n",
        ")\n",
        "test_set = torchvision.datasets.MNIST( #테스트 데이터셋 로딩하기\n",
        "    root = './data/MNIST',\n",
        "    train = False,\n",
        "    download = True,\n",
        "    transform = transfroms.Compose([\n",
        "        transfroms.ToTensor()#텐셔형태로 변환\n",
        "    ])\n",
        ")"
      ]
    },
    {
      "cell_type": "markdown",
      "metadata": {
        "id": "VQ_MTPYyoUbo"
      },
      "source": [
        "# 3."
      ]
    },
    {
      "cell_type": "code",
      "execution_count": null,
      "metadata": {
        "id": "LQee8cNioUjL"
      },
      "outputs": [],
      "source": [
        "train_loader = torch.utils.data.DataLoader(train_set, batch_size=batch_size) # 배치사이즈 100에 맞게 데이터 로드하기\n",
        "test_loader = torch.utils.data.DataLoader(test_set, batch_size=batch_size) #테스트 셋도 위와 마찬가지로\n",
        " \n",
        "examples = enumerate(train_set)\n",
        "batch_idx, (example_data, example_targets) = next(examples) #배치, 데이터, 타겟값을 다음 데이터로 뽑아주기\n",
        "example_data.shape #형태 확인"
      ]
    },
    {
      "cell_type": "markdown",
      "metadata": {
        "id": "xDVGW05NoUri"
      },
      "source": [
        "# 4."
      ]
    },
    {
      "cell_type": "code",
      "execution_count": null,
      "metadata": {
        "id": "Hn6FU1proUxO"
      },
      "outputs": [],
      "source": [
        "class ConvNet(nn.Module): #convnet이라는 클래스 만들기\n",
        "  def __init__(self): \n",
        "        super(ConvNet, self).__init__()\n",
        "        self.conv1 = nn.Conv2d(1, 10, kernel_size=5) #  인풋채널사이즈= 1, 아웃풋 채널 사이즈= 10, kernel size = 5, stride = 1, 패딩=0 컨볼루션 연산 \n",
        "        self.conv2 = nn.Conv2d(10, 20, kernel_size=5) #  인풋채널사이즈= 10, 아웃풋 채널 사이즈= 20, kernel size = 5, stride = 1, 패딩=0 컨볼루션\n",
        "        self.drop2D = nn.Dropout2d(p=0.25, inplace=False) #드롭아웃 비율 0.25(없는애 취급하고 학습)\n",
        "        self.mp = nn.MaxPool2d(2)  #가장 큰값 2x2 에서 뽑기\n",
        "        self.fc1 = nn.Linear(320,100)  #인풋사이즈 320->아웃풋 100: linear(선형회귀) 함수\n",
        "        self.fc2 = nn.Linear(100,10)  #인풋사이즈 100->아웃풋 10: linear 함수\n",
        "\n",
        "  def forward(self, x): #포워드 연산\n",
        "        # 100,1,28,28 size\n",
        "        x = F.relu(self.mp(self.conv1(x))) #relu는 활성화 비선형 함수\n",
        "        # 100,10,12,12 size\n",
        "        x = F.relu(self.mp(self.conv2(x))) \n",
        "        # 100,20,4,4 size\n",
        "        x = self.drop2D(x) #위에 init에서 정의한 drop2d\n",
        "        # 100,20,4,4 size\n",
        "        x = x.view(x.size(0), -1) #x.size(0)shape로 자동지정-> 100,320 size\n",
        "        x = self.fc1(x) #위에서 정의한 fc1 ->100,100 size\n",
        "        x = self.fc2(x) #위에서 정의한 fc2 ->100,10 size\n",
        "        return F.log_softmax(x) #소프트맥스에 로그값 취한 것"
      ]
    },
    {
      "cell_type": "markdown",
      "metadata": {
        "id": "ccwsHldkoU3w"
      },
      "source": [
        "# 5."
      ]
    },
    {
      "cell_type": "code",
      "execution_count": null,
      "metadata": {
        "id": "XN9BQMZJoU8b"
      },
      "outputs": [],
      "source": [
        "model = ConvNet().to(device)  #conv넷 모델로 지정\n",
        "criterion = nn.CrossEntropyLoss().to(device)\n",
        "optimizer = torch.optim.Adam(model.parameters(), lr = learning_rate) #옵티마이저로 아담 사용\n",
        " \n",
        "for epoch in range(epochs):  #5에폭만큼 돌겠다.\n",
        "    avg_cost = 0\n",
        "\n",
        "    for data, target in train_loader: \n",
        "        data = data.to(device) #데이터 로드\n",
        "        target = target.to(device) #타겟값 로드\n",
        "        optimizer.zero_grad() \n",
        "        #  모든 model의 gradient 값을 0으로 설정 - 초기화 이유 : \n",
        "        #파이토치에서는 그래디언트값들을 추후에 backward를 해줄 때 계속 더해준다. \n",
        "        #그래서 백프로파게이션을 진행하기 전에 그래디언트를 zero로 만들어줘야한다.\n",
        "        #안그러면 이상향 방향으로 학습된다\n",
        "        hypothesis = model(data) #예측값\n",
        "        cost = criterion(hypothesis, target) #크로스엔트로피 값. 손실계산\n",
        "        cost.backward() #백프로파게이션-> w와 b가 계산됨\n",
        "        optimizer.step()  # 옵티마이저의 step함수를 호출하여 인수로 들어갔던 w와 b에서 리턴되는\n",
        "        #변수들의 기울기에 러닝레이트를 곱하여 빼준다.\n",
        "        avg_cost += cost / len(train_loader) #코스트 합 계산\n",
        "    print('[Epoch: {:>4}] cost = {:>.9}'.format(epoch + 1, avg_cost))\n",
        " "
      ]
    },
    {
      "cell_type": "markdown",
      "metadata": {
        "id": "35KJ9PP9oVCI"
      },
      "source": [
        "# 6."
      ]
    },
    {
      "cell_type": "code",
      "execution_count": null,
      "metadata": {
        "id": "_aJMrF54oVGV"
      },
      "outputs": [],
      "source": [
        "model.eval()\n",
        "with torch.no_grad(): \n",
        "    correct = 0\n",
        "    total = 0\n",
        "\n",
        "    for data, target in test_loader:\n",
        "        data = data.to(device)#데이터로드\n",
        "        target = target.to(device) #타겟값 로드\n",
        "        out = model(data) #모델의 아웃풋값\n",
        "        preds = torch.max(out.data, 1)[1]  #타겟값\n",
        "        total += len(target) #전체 데이터개수\n",
        "        correct += (preds==target).sum().item()  #맞는 값\n",
        "        \n",
        "    print('Test Accuracy: ', 100.*correct/total, '%')"
      ]
    },
    {
      "cell_type": "markdown",
      "metadata": {
        "id": "5bxJSYFToVLy"
      },
      "source": [
        "# 7. \n",
        "\n"
      ]
    },
    {
      "cell_type": "code",
      "execution_count": null,
      "metadata": {
        "id": "7yzDsZ9roVQM"
      },
      "outputs": [],
      "source": []
    }
  ],
  "metadata": {
    "accelerator": "GPU",
    "colab": {
      "collapsed_sections": [],
      "name": "Framework_PyTorch.ipynb",
      "provenance": []
    },
    "gpuClass": "standard",
    "kernelspec": {
      "display_name": "Python 3.7.0 64-bit",
      "language": "python",
      "name": "python3"
    },
    "language_info": {
      "codemirror_mode": {
        "name": "ipython",
        "version": 3
      },
      "file_extension": ".py",
      "mimetype": "text/x-python",
      "name": "python",
      "nbconvert_exporter": "python",
      "pygments_lexer": "ipython3",
      "version": "3.7.0"
    },
    "vscode": {
      "interpreter": {
        "hash": "9e4da2e68e52eaecd09ab559ce3da5a5877c5e2c60ae63dc0cc3d4b3b47ebf09"
      }
    }
  },
  "nbformat": 4,
  "nbformat_minor": 0
}
